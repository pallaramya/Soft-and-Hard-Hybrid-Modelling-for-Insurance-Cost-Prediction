{
 "cells": [
  {
   "cell_type": "code",
   "execution_count": null,
   "metadata": {
    "colab": {
     "base_uri": "https://localhost:8080/"
    },
    "executionInfo": {
     "elapsed": 2174,
     "status": "ok",
     "timestamp": 1748328057933,
     "user": {
      "displayName": "Jada Projects21",
      "userId": "13200932800628579944"
     },
     "user_tz": -330
    },
    "id": "GdIdu1RPjKoC",
    "outputId": "6ff288d8-041d-4aa9-8e96-2aef12fc91dd"
   },
   "outputs": [],
   "source": []
  },
  {
   "cell_type": "code",
   "execution_count": 2,
   "metadata": {
    "colab": {
     "base_uri": "https://localhost:8080/",
     "height": 206
    },
    "executionInfo": {
     "elapsed": 1975,
     "status": "ok",
     "timestamp": 1748328059897,
     "user": {
      "displayName": "Jada Projects21",
      "userId": "13200932800628579944"
     },
     "user_tz": -330
    },
    "id": "Hiozi_e1jLPF",
    "outputId": "b1d95d71-8676-4e9d-df02-7e7532e1af29"
   },
   "outputs": [
    {
     "data": {
      "text/html": [
       "<div>\n",
       "<style scoped>\n",
       "    .dataframe tbody tr th:only-of-type {\n",
       "        vertical-align: middle;\n",
       "    }\n",
       "\n",
       "    .dataframe tbody tr th {\n",
       "        vertical-align: top;\n",
       "    }\n",
       "\n",
       "    .dataframe thead th {\n",
       "        text-align: right;\n",
       "    }\n",
       "</style>\n",
       "<table border=\"1\" class=\"dataframe\">\n",
       "  <thead>\n",
       "    <tr style=\"text-align: right;\">\n",
       "      <th></th>\n",
       "      <th>age</th>\n",
       "      <th>sex</th>\n",
       "      <th>bmi</th>\n",
       "      <th>children</th>\n",
       "      <th>smoker</th>\n",
       "      <th>region</th>\n",
       "      <th>charges</th>\n",
       "    </tr>\n",
       "  </thead>\n",
       "  <tbody>\n",
       "    <tr>\n",
       "      <th>0</th>\n",
       "      <td>19</td>\n",
       "      <td>female</td>\n",
       "      <td>27.900</td>\n",
       "      <td>0</td>\n",
       "      <td>yes</td>\n",
       "      <td>southwest</td>\n",
       "      <td>16884.92400</td>\n",
       "    </tr>\n",
       "    <tr>\n",
       "      <th>1</th>\n",
       "      <td>18</td>\n",
       "      <td>male</td>\n",
       "      <td>33.770</td>\n",
       "      <td>1</td>\n",
       "      <td>no</td>\n",
       "      <td>southeast</td>\n",
       "      <td>1725.55230</td>\n",
       "    </tr>\n",
       "    <tr>\n",
       "      <th>2</th>\n",
       "      <td>28</td>\n",
       "      <td>male</td>\n",
       "      <td>33.000</td>\n",
       "      <td>3</td>\n",
       "      <td>no</td>\n",
       "      <td>southeast</td>\n",
       "      <td>4449.46200</td>\n",
       "    </tr>\n",
       "    <tr>\n",
       "      <th>3</th>\n",
       "      <td>33</td>\n",
       "      <td>male</td>\n",
       "      <td>22.705</td>\n",
       "      <td>0</td>\n",
       "      <td>no</td>\n",
       "      <td>northwest</td>\n",
       "      <td>21984.47061</td>\n",
       "    </tr>\n",
       "    <tr>\n",
       "      <th>4</th>\n",
       "      <td>32</td>\n",
       "      <td>male</td>\n",
       "      <td>28.880</td>\n",
       "      <td>0</td>\n",
       "      <td>no</td>\n",
       "      <td>northwest</td>\n",
       "      <td>3866.85520</td>\n",
       "    </tr>\n",
       "  </tbody>\n",
       "</table>\n",
       "</div>"
      ],
      "text/plain": [
       "   age     sex     bmi  children smoker     region      charges\n",
       "0   19  female  27.900         0    yes  southwest  16884.92400\n",
       "1   18    male  33.770         1     no  southeast   1725.55230\n",
       "2   28    male  33.000         3     no  southeast   4449.46200\n",
       "3   33    male  22.705         0     no  northwest  21984.47061\n",
       "4   32    male  28.880         0     no  northwest   3866.85520"
      ]
     },
     "execution_count": 2,
     "metadata": {},
     "output_type": "execute_result"
    }
   ],
   "source": [
    "import pandas as pd\n",
    "import seaborn as sns\n",
    "import matplotlib.pyplot as plt\n",
    "from sklearn.preprocessing import LabelEncoder\n",
    "from sklearn.model_selection import train_test_split\n",
    "import math\n",
    "from sklearn.metrics import r2_score\n",
    "from sklearn.metrics import mean_absolute_error\n",
    "from sklearn.metrics import mean_squared_error\n",
    "from sklearn.model_selection import GridSearchCV\n",
    "import warnings\n",
    "warnings.filterwarnings('ignore')\n",
    "\n",
    "insurance_df = pd.read_csv('insurance.csv')\n",
    "insurance_df.head()"
   ]
  },
  {
   "cell_type": "code",
   "execution_count": 3,
   "metadata": {
    "colab": {
     "base_uri": "https://localhost:8080/",
     "height": 206
    },
    "executionInfo": {
     "elapsed": 82,
     "status": "ok",
     "timestamp": 1748328059983,
     "user": {
      "displayName": "Jada Projects21",
      "userId": "13200932800628579944"
     },
     "user_tz": -330
    },
    "id": "k_UkewwSjLSO",
    "outputId": "61e0a0ef-fec4-4c47-9c90-156b6f03c075"
   },
   "outputs": [
    {
     "data": {
      "text/html": [
       "<div>\n",
       "<style scoped>\n",
       "    .dataframe tbody tr th:only-of-type {\n",
       "        vertical-align: middle;\n",
       "    }\n",
       "\n",
       "    .dataframe tbody tr th {\n",
       "        vertical-align: top;\n",
       "    }\n",
       "\n",
       "    .dataframe thead th {\n",
       "        text-align: right;\n",
       "    }\n",
       "</style>\n",
       "<table border=\"1\" class=\"dataframe\">\n",
       "  <thead>\n",
       "    <tr style=\"text-align: right;\">\n",
       "      <th></th>\n",
       "      <th>age</th>\n",
       "      <th>sex</th>\n",
       "      <th>bmi</th>\n",
       "      <th>children</th>\n",
       "      <th>smoker</th>\n",
       "      <th>region</th>\n",
       "      <th>charges</th>\n",
       "    </tr>\n",
       "  </thead>\n",
       "  <tbody>\n",
       "    <tr>\n",
       "      <th>1333</th>\n",
       "      <td>50</td>\n",
       "      <td>male</td>\n",
       "      <td>30.97</td>\n",
       "      <td>3</td>\n",
       "      <td>no</td>\n",
       "      <td>northwest</td>\n",
       "      <td>10600.5483</td>\n",
       "    </tr>\n",
       "    <tr>\n",
       "      <th>1334</th>\n",
       "      <td>18</td>\n",
       "      <td>female</td>\n",
       "      <td>31.92</td>\n",
       "      <td>0</td>\n",
       "      <td>no</td>\n",
       "      <td>northeast</td>\n",
       "      <td>2205.9808</td>\n",
       "    </tr>\n",
       "    <tr>\n",
       "      <th>1335</th>\n",
       "      <td>18</td>\n",
       "      <td>female</td>\n",
       "      <td>36.85</td>\n",
       "      <td>0</td>\n",
       "      <td>no</td>\n",
       "      <td>southeast</td>\n",
       "      <td>1629.8335</td>\n",
       "    </tr>\n",
       "    <tr>\n",
       "      <th>1336</th>\n",
       "      <td>21</td>\n",
       "      <td>female</td>\n",
       "      <td>25.80</td>\n",
       "      <td>0</td>\n",
       "      <td>no</td>\n",
       "      <td>southwest</td>\n",
       "      <td>2007.9450</td>\n",
       "    </tr>\n",
       "    <tr>\n",
       "      <th>1337</th>\n",
       "      <td>61</td>\n",
       "      <td>female</td>\n",
       "      <td>29.07</td>\n",
       "      <td>0</td>\n",
       "      <td>yes</td>\n",
       "      <td>northwest</td>\n",
       "      <td>29141.3603</td>\n",
       "    </tr>\n",
       "  </tbody>\n",
       "</table>\n",
       "</div>"
      ],
      "text/plain": [
       "      age     sex    bmi  children smoker     region     charges\n",
       "1333   50    male  30.97         3     no  northwest  10600.5483\n",
       "1334   18  female  31.92         0     no  northeast   2205.9808\n",
       "1335   18  female  36.85         0     no  southeast   1629.8335\n",
       "1336   21  female  25.80         0     no  southwest   2007.9450\n",
       "1337   61  female  29.07         0    yes  northwest  29141.3603"
      ]
     },
     "execution_count": 3,
     "metadata": {},
     "output_type": "execute_result"
    }
   ],
   "source": [
    "insurance_df.tail()"
   ]
  },
  {
   "cell_type": "code",
   "execution_count": 4,
   "metadata": {
    "colab": {
     "base_uri": "https://localhost:8080/",
     "height": 664
    },
    "executionInfo": {
     "elapsed": 80,
     "status": "ok",
     "timestamp": 1748328060066,
     "user": {
      "displayName": "Jada Projects21",
      "userId": "13200932800628579944"
     },
     "user_tz": -330
    },
    "id": "sKxBelD2jLVr",
    "outputId": "a79e1ba8-e170-418c-e5a1-87bd665433bc"
   },
   "outputs": [
    {
     "name": "stdout",
     "output_type": "stream",
     "text": [
      "Insurance Cost Data Shape: (1338, 7)\n",
      "\n",
      "Information of Insurance Cost:\n",
      "\n",
      "<class 'pandas.core.frame.DataFrame'>\n",
      "RangeIndex: 1338 entries, 0 to 1337\n",
      "Data columns (total 7 columns):\n",
      " #   Column    Non-Null Count  Dtype  \n",
      "---  ------    --------------  -----  \n",
      " 0   age       1338 non-null   int64  \n",
      " 1   sex       1338 non-null   object \n",
      " 2   bmi       1338 non-null   float64\n",
      " 3   children  1338 non-null   int64  \n",
      " 4   smoker    1338 non-null   object \n",
      " 5   region    1338 non-null   object \n",
      " 6   charges   1338 non-null   float64\n",
      "dtypes: float64(2), int64(2), object(3)\n",
      "memory usage: 73.3+ KB\n",
      "\n",
      "Statistical Analysis of Insurance Cost:\n",
      "\n"
     ]
    },
    {
     "data": {
      "text/html": [
       "<div>\n",
       "<style scoped>\n",
       "    .dataframe tbody tr th:only-of-type {\n",
       "        vertical-align: middle;\n",
       "    }\n",
       "\n",
       "    .dataframe tbody tr th {\n",
       "        vertical-align: top;\n",
       "    }\n",
       "\n",
       "    .dataframe thead th {\n",
       "        text-align: right;\n",
       "    }\n",
       "</style>\n",
       "<table border=\"1\" class=\"dataframe\">\n",
       "  <thead>\n",
       "    <tr style=\"text-align: right;\">\n",
       "      <th></th>\n",
       "      <th>age</th>\n",
       "      <th>bmi</th>\n",
       "      <th>children</th>\n",
       "      <th>charges</th>\n",
       "    </tr>\n",
       "  </thead>\n",
       "  <tbody>\n",
       "    <tr>\n",
       "      <th>count</th>\n",
       "      <td>1338.000000</td>\n",
       "      <td>1338.000000</td>\n",
       "      <td>1338.000000</td>\n",
       "      <td>1338.000000</td>\n",
       "    </tr>\n",
       "    <tr>\n",
       "      <th>mean</th>\n",
       "      <td>39.207025</td>\n",
       "      <td>30.663397</td>\n",
       "      <td>1.094918</td>\n",
       "      <td>13270.422265</td>\n",
       "    </tr>\n",
       "    <tr>\n",
       "      <th>std</th>\n",
       "      <td>14.049960</td>\n",
       "      <td>6.098187</td>\n",
       "      <td>1.205493</td>\n",
       "      <td>12110.011237</td>\n",
       "    </tr>\n",
       "    <tr>\n",
       "      <th>min</th>\n",
       "      <td>18.000000</td>\n",
       "      <td>15.960000</td>\n",
       "      <td>0.000000</td>\n",
       "      <td>1121.873900</td>\n",
       "    </tr>\n",
       "    <tr>\n",
       "      <th>25%</th>\n",
       "      <td>27.000000</td>\n",
       "      <td>26.296250</td>\n",
       "      <td>0.000000</td>\n",
       "      <td>4740.287150</td>\n",
       "    </tr>\n",
       "    <tr>\n",
       "      <th>50%</th>\n",
       "      <td>39.000000</td>\n",
       "      <td>30.400000</td>\n",
       "      <td>1.000000</td>\n",
       "      <td>9382.033000</td>\n",
       "    </tr>\n",
       "    <tr>\n",
       "      <th>75%</th>\n",
       "      <td>51.000000</td>\n",
       "      <td>34.693750</td>\n",
       "      <td>2.000000</td>\n",
       "      <td>16639.912515</td>\n",
       "    </tr>\n",
       "    <tr>\n",
       "      <th>max</th>\n",
       "      <td>64.000000</td>\n",
       "      <td>53.130000</td>\n",
       "      <td>5.000000</td>\n",
       "      <td>63770.428010</td>\n",
       "    </tr>\n",
       "  </tbody>\n",
       "</table>\n",
       "</div>"
      ],
      "text/plain": [
       "               age          bmi     children       charges\n",
       "count  1338.000000  1338.000000  1338.000000   1338.000000\n",
       "mean     39.207025    30.663397     1.094918  13270.422265\n",
       "std      14.049960     6.098187     1.205493  12110.011237\n",
       "min      18.000000    15.960000     0.000000   1121.873900\n",
       "25%      27.000000    26.296250     0.000000   4740.287150\n",
       "50%      39.000000    30.400000     1.000000   9382.033000\n",
       "75%      51.000000    34.693750     2.000000  16639.912515\n",
       "max      64.000000    53.130000     5.000000  63770.428010"
      ]
     },
     "execution_count": 4,
     "metadata": {},
     "output_type": "execute_result"
    }
   ],
   "source": [
    "print(\"Insurance Cost Data Shape:\",insurance_df.shape)\n",
    "print(\"\\nInformation of Insurance Cost:\\n\")\n",
    "insurance_df.info()\n",
    "print(\"\\nStatistical Analysis of Insurance Cost:\\n\")\n",
    "insurance_df.describe()"
   ]
  },
  {
   "cell_type": "code",
   "execution_count": 5,
   "metadata": {
    "colab": {
     "base_uri": "https://localhost:8080/",
     "height": 489
    },
    "executionInfo": {
     "elapsed": 43,
     "status": "ok",
     "timestamp": 1748328060113,
     "user": {
      "displayName": "Jada Projects21",
      "userId": "13200932800628579944"
     },
     "user_tz": -330
    },
    "id": "AanW4fJijLYe",
    "outputId": "bc0af43c-aad2-4ce1-802e-a1f321fa3021"
   },
   "outputs": [
    {
     "data": {
      "text/plain": [
       "1639.56310     2\n",
       "16884.92400    1\n",
       "29330.98315    1\n",
       "2221.56445     1\n",
       "19798.05455    1\n",
       "              ..\n",
       "7345.08400     1\n",
       "26109.32905    1\n",
       "28287.89766    1\n",
       "1149.39590     1\n",
       "29141.36030    1\n",
       "Name: charges, Length: 1337, dtype: int64"
      ]
     },
     "execution_count": 5,
     "metadata": {},
     "output_type": "execute_result"
    }
   ],
   "source": [
    "insurance_df['charges'].value_counts()"
   ]
  },
  {
   "cell_type": "markdown",
   "metadata": {
    "id": "74wwVB7mdvEg"
   },
   "source": [
    "### Dropping Null and Duplicates"
   ]
  },
  {
   "cell_type": "code",
   "execution_count": 6,
   "metadata": {
    "colab": {
     "base_uri": "https://localhost:8080/"
    },
    "executionInfo": {
     "elapsed": 26,
     "status": "ok",
     "timestamp": 1748328060144,
     "user": {
      "displayName": "Jada Projects21",
      "userId": "13200932800628579944"
     },
     "user_tz": -330
    },
    "id": "h8jvlwnZjLbk",
    "outputId": "3eb176ef-a393-4ace-9a65-a825be23d08d"
   },
   "outputs": [
    {
     "name": "stdout",
     "output_type": "stream",
     "text": [
      "NaN values present in Insurance Cost:  0\n",
      "Duplicates present in Insurance Cost:  1\n",
      "Final Duplicates Count:  0\n"
     ]
    }
   ],
   "source": [
    "print(\"NaN values present in Insurance Cost: \",insurance_df.isnull().values.sum())\n",
    "print(\"Duplicates present in Insurance Cost: \",insurance_df.duplicated().sum())\n",
    "insurance_df = insurance_df.drop_duplicates(keep='first')\n",
    "print(\"Final Duplicates Count: \",insurance_df.duplicated().sum())"
   ]
  },
  {
   "cell_type": "markdown",
   "metadata": {
    "id": "maTFfzVIK2IE"
   },
   "source": [
    "### Visualization of Numeric Columns"
   ]
  },
  {
   "cell_type": "code",
   "execution_count": 7,
   "metadata": {
    "colab": {
     "base_uri": "https://localhost:8080/",
     "height": 244
    },
    "executionInfo": {
     "elapsed": 2280,
     "status": "ok",
     "timestamp": 1748328062429,
     "user": {
      "displayName": "Jada Projects21",
      "userId": "13200932800628579944"
     },
     "user_tz": -330
    },
    "id": "wAFcNmKOKgnu",
    "outputId": "c9d7e6a6-abf3-483e-b987-44ccbe4f4048"
   },
   "outputs": [
    {
     "data": {
      "image/png": "[encoded data removed]",
      "text/plain": [
       "<Figure size 2000x400 with 4 Axes>"
      ]
     },
     "metadata": {},
     "output_type": "display_data"
    }
   ],
   "source": [
    "# Selecting all the numerical columns (int and float)\n",
    "numeric_cols = insurance_df.select_dtypes(include=['int64', 'float64']).columns\n",
    "\n",
    "fig, axes = plt.subplots(1, len(numeric_cols), figsize=(5 * len(numeric_cols), 4))\n",
    "for j, col in enumerate(numeric_cols):\n",
    "    sns.histplot(insurance_df[col], kde=True, ax=axes[j], color='darkcyan')\n",
    "    axes[j].set_title(f'{col} Distribution')\n",
    "\n",
    "plt.tight_layout()\n",
    "plt.show()"
   ]
  },
  {
   "cell_type": "markdown",
   "metadata": {
    "id": "c0m5qTnBK7sW"
   },
   "source": [
    "### Visualization of Object Columns"
   ]
  },
  {
   "cell_type": "code",
   "execution_count": 9,
   "metadata": {
    "colab": {
     "base_uri": "https://localhost:8080/",
     "height": 344
    },
    "executionInfo": {
     "elapsed": 596,
     "status": "ok",
     "timestamp": 1748328063033,
     "user": {
      "displayName": "Jada Projects21",
      "userId": "13200932800628579944"
     },
     "user_tz": -330
    },
    "id": "uVmCRRkEjLiE",
    "outputId": "268448eb-1f34-492e-d3ca-ee51f8e2c4bd"
   },
   "outputs": [
    {
     "data": {
      "image/png": "[encoded data removed]",
      "text/plain": [
       "<Figure size 1500x400 with 3 Axes>"
      ]
     },
     "metadata": {},
     "output_type": "display_data"
    }
   ],
   "source": [
    "# Selecting all the object columns\n",
    "\n",
    "object_columns = insurance_df.select_dtypes(include='object').columns\n",
    "\n",
    "fig, axes = plt.subplots(1, len(object_columns), figsize=(5 * len(object_columns), 4))\n",
    "\n",
    "# Handle the single column case\n",
    "if len(object_columns) == 1:\n",
    "    axes = [axes]\n",
    "\n",
    "for j, col in enumerate(object_columns):\n",
    "    # Default colors\n",
    "    default_colors = ['#4e79a7', '#f28e2b', '#59a14f', '#af7aa1']\n",
    "    \n",
    "    # Custom colors for the third chart (index 2)\n",
    "    if j == 2:\n",
    "        custom_colors = ['#e15759', '#76b7b2', '#edc948', '#b07aa1']  # Example different palette\n",
    "        color_set = custom_colors\n",
    "    else:\n",
    "        color_set = default_colors\n",
    "\n",
    "    insurance_df[col].value_counts().plot.pie(\n",
    "        ax=axes[j],\n",
    "        autopct='%1.1f%%',\n",
    "        startangle=90,\n",
    "        shadow=True,\n",
    "        colors=color_set\n",
    "    )\n",
    "    axes[j].set_title(f'{col.capitalize()} Distribution')\n",
    "    axes[j].set_ylabel('')  # Hide y-axis label\n",
    "\n",
    "plt.tight_layout()\n",
    "plt.show()\n"
   ]
  },
  {
   "cell_type": "code",
   "execution_count": 10,
   "metadata": {
    "colab": {
     "base_uri": "https://localhost:8080/"
    },
    "executionInfo": {
     "elapsed": 26,
     "status": "ok",
     "timestamp": 1748328063066,
     "user": {
      "displayName": "Jada Projects21",
      "userId": "13200932800628579944"
     },
     "user_tz": -330
    },
    "id": "pgRUgB14OOKQ",
    "outputId": "0d2a1500-9e4a-4224-e9ee-332084c9cd41"
   },
   "outputs": [
    {
     "name": "stdout",
     "output_type": "stream",
     "text": [
      "<class 'pandas.core.frame.DataFrame'>\n",
      "Int64Index: 1337 entries, 0 to 1337\n",
      "Data columns (total 7 columns):\n",
      " #   Column    Non-Null Count  Dtype  \n",
      "---  ------    --------------  -----  \n",
      " 0   age       1337 non-null   int64  \n",
      " 1   sex       1337 non-null   int32  \n",
      " 2   bmi       1337 non-null   float64\n",
      " 3   children  1337 non-null   int64  \n",
      " 4   smoker    1337 non-null   int32  \n",
      " 5   region    1337 non-null   int32  \n",
      " 6   charges   1337 non-null   float64\n",
      "dtypes: float64(2), int32(3), int64(2)\n",
      "memory usage: 67.9 KB\n"
     ]
    }
   ],
   "source": [
    "# Changing object to numeric\n",
    "human_le = LabelEncoder()\n",
    "insurance_df['sex']= human_le.fit_transform(insurance_df['sex'])\n",
    "insurance_df['smoker']= human_le.fit_transform(insurance_df['smoker'])\n",
    "insurance_df['region']= human_le.fit_transform(insurance_df['region'])\n",
    "insurance_df.info()"
   ]
  },
  {
   "cell_type": "markdown",
   "metadata": {
    "id": "OWm2beLZd2Ew"
   },
   "source": [
    "Splitting"
   ]
  },
  {
   "cell_type": "code",
   "execution_count": 11,
   "metadata": {
    "id": "oafqzT45jLs7"
   },
   "outputs": [],
   "source": [
    "insuranceX = insurance_df.drop('charges',axis=1)\n",
    "insuranceY = insurance_df['charges']\n",
    "\n",
    "ins_Xtr, ins_Xts, ins_Ytr, ins_Yts = train_test_split(insuranceX, insuranceY, test_size=0.4, random_state=20)\n",
    "ins_Xva, ins_Xts, ins_Yva, ins_Yts = train_test_split(ins_Xts, ins_Yts, test_size=0.5, random_state=20)"
   ]
  },
  {
   "cell_type": "code",
   "execution_count": 12,
   "metadata": {
    "colab": {
     "base_uri": "https://localhost:8080/",
     "height": 423
    },
    "executionInfo": {
     "elapsed": 28,
     "status": "ok",
     "timestamp": 1748328063110,
     "user": {
      "displayName": "Jada Projects21",
      "userId": "13200932800628579944"
     },
     "user_tz": -330
    },
    "id": "dfn59lHSMgn9",
    "outputId": "5cfb0a41-56a4-4e15-c7b4-a889b90dbc86"
   },
   "outputs": [
    {
     "data": {
      "text/html": [
       "<div>\n",
       "<style scoped>\n",
       "    .dataframe tbody tr th:only-of-type {\n",
       "        vertical-align: middle;\n",
       "    }\n",
       "\n",
       "    .dataframe tbody tr th {\n",
       "        vertical-align: top;\n",
       "    }\n",
       "\n",
       "    .dataframe thead th {\n",
       "        text-align: right;\n",
       "    }\n",
       "</style>\n",
       "<table border=\"1\" class=\"dataframe\">\n",
       "  <thead>\n",
       "    <tr style=\"text-align: right;\">\n",
       "      <th></th>\n",
       "      <th>age</th>\n",
       "      <th>sex</th>\n",
       "      <th>bmi</th>\n",
       "      <th>children</th>\n",
       "      <th>smoker</th>\n",
       "      <th>region</th>\n",
       "    </tr>\n",
       "  </thead>\n",
       "  <tbody>\n",
       "    <tr>\n",
       "      <th>683</th>\n",
       "      <td>53</td>\n",
       "      <td>1</td>\n",
       "      <td>24.320</td>\n",
       "      <td>0</td>\n",
       "      <td>0</td>\n",
       "      <td>1</td>\n",
       "    </tr>\n",
       "    <tr>\n",
       "      <th>519</th>\n",
       "      <td>31</td>\n",
       "      <td>1</td>\n",
       "      <td>30.875</td>\n",
       "      <td>0</td>\n",
       "      <td>0</td>\n",
       "      <td>0</td>\n",
       "    </tr>\n",
       "    <tr>\n",
       "      <th>1245</th>\n",
       "      <td>28</td>\n",
       "      <td>1</td>\n",
       "      <td>24.300</td>\n",
       "      <td>5</td>\n",
       "      <td>0</td>\n",
       "      <td>3</td>\n",
       "    </tr>\n",
       "    <tr>\n",
       "      <th>769</th>\n",
       "      <td>38</td>\n",
       "      <td>0</td>\n",
       "      <td>19.475</td>\n",
       "      <td>2</td>\n",
       "      <td>0</td>\n",
       "      <td>1</td>\n",
       "    </tr>\n",
       "    <tr>\n",
       "      <th>218</th>\n",
       "      <td>26</td>\n",
       "      <td>0</td>\n",
       "      <td>29.920</td>\n",
       "      <td>1</td>\n",
       "      <td>0</td>\n",
       "      <td>2</td>\n",
       "    </tr>\n",
       "    <tr>\n",
       "      <th>...</th>\n",
       "      <td>...</td>\n",
       "      <td>...</td>\n",
       "      <td>...</td>\n",
       "      <td>...</td>\n",
       "      <td>...</td>\n",
       "      <td>...</td>\n",
       "    </tr>\n",
       "    <tr>\n",
       "      <th>1243</th>\n",
       "      <td>28</td>\n",
       "      <td>0</td>\n",
       "      <td>33.110</td>\n",
       "      <td>0</td>\n",
       "      <td>0</td>\n",
       "      <td>2</td>\n",
       "    </tr>\n",
       "    <tr>\n",
       "      <th>925</th>\n",
       "      <td>50</td>\n",
       "      <td>1</td>\n",
       "      <td>32.110</td>\n",
       "      <td>2</td>\n",
       "      <td>0</td>\n",
       "      <td>0</td>\n",
       "    </tr>\n",
       "    <tr>\n",
       "      <th>1248</th>\n",
       "      <td>18</td>\n",
       "      <td>0</td>\n",
       "      <td>39.820</td>\n",
       "      <td>0</td>\n",
       "      <td>0</td>\n",
       "      <td>2</td>\n",
       "    </tr>\n",
       "    <tr>\n",
       "      <th>271</th>\n",
       "      <td>50</td>\n",
       "      <td>1</td>\n",
       "      <td>34.200</td>\n",
       "      <td>2</td>\n",
       "      <td>1</td>\n",
       "      <td>3</td>\n",
       "    </tr>\n",
       "    <tr>\n",
       "      <th>474</th>\n",
       "      <td>54</td>\n",
       "      <td>1</td>\n",
       "      <td>25.100</td>\n",
       "      <td>3</td>\n",
       "      <td>1</td>\n",
       "      <td>3</td>\n",
       "    </tr>\n",
       "  </tbody>\n",
       "</table>\n",
       "<p>802 rows × 6 columns</p>\n",
       "</div>"
      ],
      "text/plain": [
       "      age  sex     bmi  children  smoker  region\n",
       "683    53    1  24.320         0       0       1\n",
       "519    31    1  30.875         0       0       0\n",
       "1245   28    1  24.300         5       0       3\n",
       "769    38    0  19.475         2       0       1\n",
       "218    26    0  29.920         1       0       2\n",
       "...   ...  ...     ...       ...     ...     ...\n",
       "1243   28    0  33.110         0       0       2\n",
       "925    50    1  32.110         2       0       0\n",
       "1248   18    0  39.820         0       0       2\n",
       "271    50    1  34.200         2       1       3\n",
       "474    54    1  25.100         3       1       3\n",
       "\n",
       "[802 rows x 6 columns]"
      ]
     },
     "execution_count": 12,
     "metadata": {},
     "output_type": "execute_result"
    }
   ],
   "source": [
    "ins_Xtr"
   ]
  },
  {
   "cell_type": "code",
   "execution_count": 13,
   "metadata": {
    "colab": {
     "base_uri": "https://localhost:8080/",
     "height": 423
    },
    "executionInfo": {
     "elapsed": 31,
     "status": "ok",
     "timestamp": 1748328063139,
     "user": {
      "displayName": "Jada Projects21",
      "userId": "13200932800628579944"
     },
     "user_tz": -330
    },
    "id": "QJNhvoY9MgyH",
    "outputId": "7b21fef8-e7f1-4a88-9f6b-24ab758cd8b8"
   },
   "outputs": [
    {
     "data": {
      "text/html": [
       "<div>\n",
       "<style scoped>\n",
       "    .dataframe tbody tr th:only-of-type {\n",
       "        vertical-align: middle;\n",
       "    }\n",
       "\n",
       "    .dataframe tbody tr th {\n",
       "        vertical-align: top;\n",
       "    }\n",
       "\n",
       "    .dataframe thead th {\n",
       "        text-align: right;\n",
       "    }\n",
       "</style>\n",
       "<table border=\"1\" class=\"dataframe\">\n",
       "  <thead>\n",
       "    <tr style=\"text-align: right;\">\n",
       "      <th></th>\n",
       "      <th>age</th>\n",
       "      <th>sex</th>\n",
       "      <th>bmi</th>\n",
       "      <th>children</th>\n",
       "      <th>smoker</th>\n",
       "      <th>region</th>\n",
       "    </tr>\n",
       "  </thead>\n",
       "  <tbody>\n",
       "    <tr>\n",
       "      <th>1</th>\n",
       "      <td>18</td>\n",
       "      <td>1</td>\n",
       "      <td>33.770</td>\n",
       "      <td>1</td>\n",
       "      <td>0</td>\n",
       "      <td>2</td>\n",
       "    </tr>\n",
       "    <tr>\n",
       "      <th>1013</th>\n",
       "      <td>48</td>\n",
       "      <td>1</td>\n",
       "      <td>32.300</td>\n",
       "      <td>1</td>\n",
       "      <td>0</td>\n",
       "      <td>1</td>\n",
       "    </tr>\n",
       "    <tr>\n",
       "      <th>1207</th>\n",
       "      <td>36</td>\n",
       "      <td>1</td>\n",
       "      <td>33.400</td>\n",
       "      <td>2</td>\n",
       "      <td>1</td>\n",
       "      <td>3</td>\n",
       "    </tr>\n",
       "    <tr>\n",
       "      <th>773</th>\n",
       "      <td>19</td>\n",
       "      <td>0</td>\n",
       "      <td>28.880</td>\n",
       "      <td>0</td>\n",
       "      <td>1</td>\n",
       "      <td>1</td>\n",
       "    </tr>\n",
       "    <tr>\n",
       "      <th>1057</th>\n",
       "      <td>45</td>\n",
       "      <td>0</td>\n",
       "      <td>31.790</td>\n",
       "      <td>0</td>\n",
       "      <td>0</td>\n",
       "      <td>2</td>\n",
       "    </tr>\n",
       "    <tr>\n",
       "      <th>...</th>\n",
       "      <td>...</td>\n",
       "      <td>...</td>\n",
       "      <td>...</td>\n",
       "      <td>...</td>\n",
       "      <td>...</td>\n",
       "      <td>...</td>\n",
       "    </tr>\n",
       "    <tr>\n",
       "      <th>605</th>\n",
       "      <td>51</td>\n",
       "      <td>0</td>\n",
       "      <td>34.100</td>\n",
       "      <td>0</td>\n",
       "      <td>0</td>\n",
       "      <td>2</td>\n",
       "    </tr>\n",
       "    <tr>\n",
       "      <th>1318</th>\n",
       "      <td>35</td>\n",
       "      <td>1</td>\n",
       "      <td>39.710</td>\n",
       "      <td>4</td>\n",
       "      <td>0</td>\n",
       "      <td>0</td>\n",
       "    </tr>\n",
       "    <tr>\n",
       "      <th>420</th>\n",
       "      <td>64</td>\n",
       "      <td>1</td>\n",
       "      <td>33.880</td>\n",
       "      <td>0</td>\n",
       "      <td>1</td>\n",
       "      <td>2</td>\n",
       "    </tr>\n",
       "    <tr>\n",
       "      <th>1186</th>\n",
       "      <td>20</td>\n",
       "      <td>1</td>\n",
       "      <td>35.625</td>\n",
       "      <td>3</td>\n",
       "      <td>1</td>\n",
       "      <td>1</td>\n",
       "    </tr>\n",
       "    <tr>\n",
       "      <th>78</th>\n",
       "      <td>22</td>\n",
       "      <td>0</td>\n",
       "      <td>39.805</td>\n",
       "      <td>0</td>\n",
       "      <td>0</td>\n",
       "      <td>0</td>\n",
       "    </tr>\n",
       "  </tbody>\n",
       "</table>\n",
       "<p>268 rows × 6 columns</p>\n",
       "</div>"
      ],
      "text/plain": [
       "      age  sex     bmi  children  smoker  region\n",
       "1      18    1  33.770         1       0       2\n",
       "1013   48    1  32.300         1       0       1\n",
       "1207   36    1  33.400         2       1       3\n",
       "773    19    0  28.880         0       1       1\n",
       "1057   45    0  31.790         0       0       2\n",
       "...   ...  ...     ...       ...     ...     ...\n",
       "605    51    0  34.100         0       0       2\n",
       "1318   35    1  39.710         4       0       0\n",
       "420    64    1  33.880         0       1       2\n",
       "1186   20    1  35.625         3       1       1\n",
       "78     22    0  39.805         0       0       0\n",
       "\n",
       "[268 rows x 6 columns]"
      ]
     },
     "execution_count": 13,
     "metadata": {},
     "output_type": "execute_result"
    }
   ],
   "source": [
    "ins_Xts"
   ]
  },
  {
   "cell_type": "code",
   "execution_count": 14,
   "metadata": {
    "colab": {
     "base_uri": "https://localhost:8080/",
     "height": 423
    },
    "executionInfo": {
     "elapsed": 75,
     "status": "ok",
     "timestamp": 1748328063225,
     "user": {
      "displayName": "Jada Projects21",
      "userId": "13200932800628579944"
     },
     "user_tz": -330
    },
    "id": "YAmvPRSUMnAx",
    "outputId": "26a00c74-bba2-4efa-eac9-ed134bc1d033"
   },
   "outputs": [
    {
     "data": {
      "text/html": [
       "<div>\n",
       "<style scoped>\n",
       "    .dataframe tbody tr th:only-of-type {\n",
       "        vertical-align: middle;\n",
       "    }\n",
       "\n",
       "    .dataframe tbody tr th {\n",
       "        vertical-align: top;\n",
       "    }\n",
       "\n",
       "    .dataframe thead th {\n",
       "        text-align: right;\n",
       "    }\n",
       "</style>\n",
       "<table border=\"1\" class=\"dataframe\">\n",
       "  <thead>\n",
       "    <tr style=\"text-align: right;\">\n",
       "      <th></th>\n",
       "      <th>age</th>\n",
       "      <th>sex</th>\n",
       "      <th>bmi</th>\n",
       "      <th>children</th>\n",
       "      <th>smoker</th>\n",
       "      <th>region</th>\n",
       "    </tr>\n",
       "  </thead>\n",
       "  <tbody>\n",
       "    <tr>\n",
       "      <th>790</th>\n",
       "      <td>39</td>\n",
       "      <td>0</td>\n",
       "      <td>41.800</td>\n",
       "      <td>0</td>\n",
       "      <td>0</td>\n",
       "      <td>2</td>\n",
       "    </tr>\n",
       "    <tr>\n",
       "      <th>450</th>\n",
       "      <td>39</td>\n",
       "      <td>1</td>\n",
       "      <td>29.600</td>\n",
       "      <td>4</td>\n",
       "      <td>0</td>\n",
       "      <td>3</td>\n",
       "    </tr>\n",
       "    <tr>\n",
       "      <th>313</th>\n",
       "      <td>49</td>\n",
       "      <td>1</td>\n",
       "      <td>35.860</td>\n",
       "      <td>0</td>\n",
       "      <td>0</td>\n",
       "      <td>2</td>\n",
       "    </tr>\n",
       "    <tr>\n",
       "      <th>1118</th>\n",
       "      <td>33</td>\n",
       "      <td>1</td>\n",
       "      <td>35.750</td>\n",
       "      <td>1</td>\n",
       "      <td>1</td>\n",
       "      <td>2</td>\n",
       "    </tr>\n",
       "    <tr>\n",
       "      <th>813</th>\n",
       "      <td>28</td>\n",
       "      <td>1</td>\n",
       "      <td>22.515</td>\n",
       "      <td>2</td>\n",
       "      <td>0</td>\n",
       "      <td>0</td>\n",
       "    </tr>\n",
       "    <tr>\n",
       "      <th>...</th>\n",
       "      <td>...</td>\n",
       "      <td>...</td>\n",
       "      <td>...</td>\n",
       "      <td>...</td>\n",
       "      <td>...</td>\n",
       "      <td>...</td>\n",
       "    </tr>\n",
       "    <tr>\n",
       "      <th>244</th>\n",
       "      <td>63</td>\n",
       "      <td>0</td>\n",
       "      <td>27.740</td>\n",
       "      <td>0</td>\n",
       "      <td>1</td>\n",
       "      <td>0</td>\n",
       "    </tr>\n",
       "    <tr>\n",
       "      <th>530</th>\n",
       "      <td>57</td>\n",
       "      <td>1</td>\n",
       "      <td>42.130</td>\n",
       "      <td>1</td>\n",
       "      <td>1</td>\n",
       "      <td>2</td>\n",
       "    </tr>\n",
       "    <tr>\n",
       "      <th>165</th>\n",
       "      <td>47</td>\n",
       "      <td>1</td>\n",
       "      <td>28.215</td>\n",
       "      <td>4</td>\n",
       "      <td>0</td>\n",
       "      <td>0</td>\n",
       "    </tr>\n",
       "    <tr>\n",
       "      <th>1219</th>\n",
       "      <td>38</td>\n",
       "      <td>0</td>\n",
       "      <td>30.210</td>\n",
       "      <td>3</td>\n",
       "      <td>0</td>\n",
       "      <td>1</td>\n",
       "    </tr>\n",
       "    <tr>\n",
       "      <th>908</th>\n",
       "      <td>63</td>\n",
       "      <td>1</td>\n",
       "      <td>39.800</td>\n",
       "      <td>3</td>\n",
       "      <td>0</td>\n",
       "      <td>3</td>\n",
       "    </tr>\n",
       "  </tbody>\n",
       "</table>\n",
       "<p>267 rows × 6 columns</p>\n",
       "</div>"
      ],
      "text/plain": [
       "      age  sex     bmi  children  smoker  region\n",
       "790    39    0  41.800         0       0       2\n",
       "450    39    1  29.600         4       0       3\n",
       "313    49    1  35.860         0       0       2\n",
       "1118   33    1  35.750         1       1       2\n",
       "813    28    1  22.515         2       0       0\n",
       "...   ...  ...     ...       ...     ...     ...\n",
       "244    63    0  27.740         0       1       0\n",
       "530    57    1  42.130         1       1       2\n",
       "165    47    1  28.215         4       0       0\n",
       "1219   38    0  30.210         3       0       1\n",
       "908    63    1  39.800         3       0       3\n",
       "\n",
       "[267 rows x 6 columns]"
      ]
     },
     "execution_count": 14,
     "metadata": {},
     "output_type": "execute_result"
    }
   ],
   "source": [
    "ins_Xva"
   ]
  },
  {
   "cell_type": "markdown",
   "metadata": {
    "id": "UtuiBZYsQnbm"
   },
   "source": [
    "### Linear Regression"
   ]
  },
  {
   "cell_type": "code",
   "execution_count": 15,
   "metadata": {
    "colab": {
     "base_uri": "https://localhost:8080/"
    },
    "executionInfo": {
     "elapsed": 367,
     "status": "ok",
     "timestamp": 1748328063557,
     "user": {
      "displayName": "Jada Projects21",
      "userId": "13200932800628579944"
     },
     "user_tz": -330
    },
    "id": "nwE04-i3P9Sw",
    "outputId": "ba66aa4c-4e34-436b-a746-ccf712e0da25"
   },
   "outputs": [
    {
     "name": "stdout",
     "output_type": "stream",
     "text": [
      "Chosen Parameters by Linear Regressor:\n",
      "\n",
      "{'copy_X': True, 'fit_intercept': True, 'n_jobs': 1}\n",
      "\n",
      "==Validation of Linear Regressor==\n",
      "\n",
      "R2 Score : 78.3748286136425\n",
      "MAE      : 4116.124943936906\n",
      "MSE      : 32094635.29725244\n",
      "RMSE     : 5665.2127318621\n",
      "\n",
      "==Testing of Linear Regressor==\n",
      "\n",
      "R2 Score : 71.91815041239579\n",
      "MAE      : 4468.136033532687\n",
      "MSE      : 38030589.470942184\n",
      "RMSE     : 6166.894637574262\n"
     ]
    }
   ],
   "source": [
    "# train, validation and testing of Linear Regression\n",
    "\n",
    "from sklearn.linear_model import LinearRegression\n",
    "\n",
    "params_regressors = { 'fit_intercept':[True, False],\n",
    "                      'n_jobs': [1, 3, 5, 8],\n",
    "                      'copy_X': [True, False]\n",
    "                    }\n",
    "\n",
    "ins_model = LinearRegression()\n",
    "ins_model = GridSearchCV(ins_model, params_regressors, cv=2)\n",
    "ins_model.fit(ins_Xtr, ins_Ytr)\n",
    "print(\"Chosen Parameters by Linear Regressor:\\n\")\n",
    "print(ins_model.best_params_)\n",
    "\n",
    "ins_model = ins_model.best_estimator_\n",
    "ins_model.fit(ins_Xtr, ins_Ytr)\n",
    "\n",
    "ins_Ypred = ins_model.predict(ins_Xva)\n",
    "print(\"\\n==Validation of Linear Regressor==\\n\")\n",
    "print(\"R2 Score :\", r2_score(ins_Yva, ins_Ypred)*100)\n",
    "print(\"MAE      :\", mean_absolute_error(ins_Yva, ins_Ypred))\n",
    "print(\"MSE      :\", mean_squared_error(ins_Yva, ins_Ypred))\n",
    "print(\"RMSE     :\", math.sqrt(mean_squared_error(ins_Yva, ins_Ypred)))\n",
    "\n",
    "ins_Ypred = ins_model.predict(ins_Xts)\n",
    "print(\"\\n==Testing of Linear Regressor==\\n\")\n",
    "print(\"R2 Score :\", r2_score(ins_Yts, ins_Ypred)*100)\n",
    "print(\"MAE      :\", mean_absolute_error(ins_Yts, ins_Ypred))\n",
    "print(\"MSE      :\", mean_squared_error(ins_Yts, ins_Ypred))\n",
    "print(\"RMSE     :\", math.sqrt(mean_squared_error(ins_Yts, ins_Ypred)))"
   ]
  },
  {
   "cell_type": "markdown",
   "metadata": {
    "id": "BGftbIPcQrsn"
   },
   "source": [
    "### Decision Tree Regression"
   ]
  },
  {
   "cell_type": "code",
   "execution_count": null,
   "metadata": {
    "colab": {
     "base_uri": "https://localhost:8080/"
    },
    "executionInfo": {
     "elapsed": 1333,
     "status": "ok",
     "timestamp": 1748328064898,
     "user": {
      "displayName": "Jada Projects21",
      "userId": "13200932800628579944"
     },
     "user_tz": -330
    },
    "id": "KDilD71djL1n",
    "outputId": "d546e860-0620-4ce0-9d82-a4c51813305f"
   },
   "outputs": [
    {
     "name": "stdout",
     "output_type": "stream",
     "text": [
      "Chosen Parameters by DT Regressor:\n",
      "\n",
      "{'criterion': 'poisson', 'max_depth': 3, 'splitter': 'best'}\n",
      "\n",
      "==Validation of Decision Tree Regressor==\n",
      "\n",
      "R2 Score : 87.01802836112176\n",
      "MAE      : 2731.324109054066\n",
      "MSE      : 19266975.403113846\n",
      "RMSE     : 4389.416294123154\n",
      "\n",
      "==Testing of Decision Tree Regressor==\n",
      "\n",
      "R2 Score : 81.26528880817904\n",
      "MAE      : 3091.250883652701\n",
      "MSE      : 25371979.4335525\n",
      "RMSE     : 5037.060594588127\n"
     ]
    }
   ],
   "source": [
    "# train, validation and testing of Decision Tree Regression\n",
    "\n",
    "from sklearn.tree import DecisionTreeRegressor\n",
    "\n",
    "params_regressors = { 'criterion':['squared_error','friedman_mse','absolute_error','poisson'],\n",
    "                      'splitter': ['best', 'random'],\n",
    "                      'max_depth': [1, 3, 5, 8]\n",
    "                    }\n",
    "\n",
    "ins_model = DecisionTreeRegressor()\n",
    "ins_model = GridSearchCV(ins_model, params_regressors, cv=2)\n",
    "ins_model.fit(ins_Xtr, ins_Ytr)\n",
    "print(\"Chosen Parameters by DT Regressor:\\n\")\n",
    "print(ins_model.best_params_)\n",
    "\n",
    "ins_model = ins_model.best_estimator_\n",
    "ins_model.fit(ins_Xtr, ins_Ytr)\n",
    "\n",
    "ins_Ypred = ins_model.predict(ins_Xva)\n",
    "print(\"\\n==Validation of Decision Tree Regressor==\\n\")\n",
    "print(\"R2 Score :\", r2_score(ins_Yva, ins_Ypred)*100)\n",
    "print(\"MAE      :\", mean_absolute_error(ins_Yva, ins_Ypred))\n",
    "print(\"MSE      :\", mean_squared_error(ins_Yva, ins_Ypred))\n",
    "print(\"RMSE     :\", math.sqrt(mean_squared_error(ins_Yva, ins_Ypred)))\n",
    "\n",
    "ins_Ypred = ins_model.predict(ins_Xts)\n",
    "print(\"\\n==Testing of Decision Tree Regressor==\\n\")\n",
    "print(\"R2 Score :\", r2_score(ins_Yts, ins_Ypred)*100)\n",
    "print(\"MAE      :\", mean_absolute_error(ins_Yts, ins_Ypred))\n",
    "print(\"MSE      :\", mean_squared_error(ins_Yts, ins_Ypred))\n",
    "print(\"RMSE     :\", math.sqrt(mean_squared_error(ins_Yts, ins_Ypred)))"
   ]
  },
  {
   "cell_type": "code",
   "execution_count": null,
   "metadata": {
    "id": "DQF2RluZjL4i"
   },
   "outputs": [],
   "source": []
  }
 ],
 "metadata": {
  "colab": {
   "provenance": []
  },
  "kernelspec": {
   "display_name": "Python 3 (ipykernel)",
   "language": "python",
   "name": "python3"
  },
  "language_info": {
   "codemirror_mode": {
    "name": "ipython",
    "version": 3
   },
   "file_extension": ".py",
   "mimetype": "text/x-python",
   "name": "python",
   "nbconvert_exporter": "python",
   "pygments_lexer": "ipython3",
   "version": "3.9.13"
  }
 },
 "nbformat": 4,
 "nbformat_minor": 1
}
